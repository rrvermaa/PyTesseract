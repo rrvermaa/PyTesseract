{
 "cells": [
  {
   "cell_type": "code",
   "execution_count": 1,
   "id": "1be8c0d8",
   "metadata": {},
   "outputs": [],
   "source": [
    "import pytesseract"
   ]
  },
  {
   "cell_type": "code",
   "execution_count": 2,
   "id": "58be10da",
   "metadata": {},
   "outputs": [
    {
     "name": "stdout",
     "output_type": "stream",
     "text": [
      "Collecting pytesseract\n",
      "  Using cached pytesseract-0.3.10-py3-none-any.whl (14 kB)\n",
      "Requirement already satisfied: packaging>=21.3 in c:\\users\\dell\\anaconda3\\lib\\site-packages (from pytesseract) (21.3)\n",
      "Requirement already satisfied: Pillow>=8.0.0 in c:\\users\\dell\\anaconda3\\lib\\site-packages (from pytesseract) (9.2.0)\n",
      "Requirement already satisfied: pyparsing!=3.0.5,>=2.0.2 in c:\\users\\dell\\anaconda3\\lib\\site-packages (from packaging>=21.3->pytesseract) (3.0.9)\n",
      "Installing collected packages: pytesseract\n",
      "Successfully installed pytesseract-0.3.10\n",
      "Note: you may need to restart the kernel to use updated packages.\n"
     ]
    }
   ],
   "source": [
    "pip install pytesseract"
   ]
  },
  {
   "cell_type": "code",
   "execution_count": 2,
   "id": "886d2597",
   "metadata": {},
   "outputs": [],
   "source": [
    "import pytesseract\n",
    "from PIL import Image"
   ]
  },
  {
   "cell_type": "code",
   "execution_count": 5,
   "id": "740bf276",
   "metadata": {},
   "outputs": [],
   "source": [
    "img_file='data/page_01.jpg'\n",
    "no_noise='temp/no_noise.jpg'"
   ]
  },
  {
   "cell_type": "code",
   "execution_count": 6,
   "id": "943dacdb",
   "metadata": {},
   "outputs": [],
   "source": [
    "img = Image.open(img_file)\n",
    "nn_image=Image.open(no_noise)"
   ]
  },
  {
   "cell_type": "code",
   "execution_count": 7,
   "id": "91d09161",
   "metadata": {},
   "outputs": [],
   "source": [
    "ocr= pytesseract.image_to_string(img)"
   ]
  },
  {
   "cell_type": "code",
   "execution_count": 8,
   "id": "0a8eed6a",
   "metadata": {},
   "outputs": [
    {
     "name": "stdout",
     "output_type": "stream",
     "text": [
      " \n",
      "\f",
      "\n"
     ]
    }
   ],
   "source": [
    "print(ocr)"
   ]
  },
  {
   "cell_type": "code",
   "execution_count": 9,
   "id": "e9b28c46",
   "metadata": {},
   "outputs": [],
   "source": [
    "ocr_result=pytesseract.image_to_string(nn_image)"
   ]
  },
  {
   "cell_type": "code",
   "execution_count": 10,
   "id": "06216127",
   "metadata": {},
   "outputs": [
    {
     "name": "stdout",
     "output_type": "stream",
     "text": [
      "“GABRIEL NMermace\n",
      "\n",
      "On Easter motning in the year 175, I took my six-year-old\n",
      "son by the hand and beran walking fron my home town toward the\n",
      "valleys and forests of the Carpathirs rountains. For nearly\n",
      "eight months we lived in barns, attics and makeshift cabins. “ith\n",
      "the poncuos help of an unusually courageous man, we managed to\n",
      "survive Europe's greatest fit of madness. Those who walked in\n",
      "the opposite direction on that Easter day were less fortunate.\n",
      "They wore taken in trainloads to places whose once obscure nanes\n",
      "are now, and forever will be, synonymous with terror, evil and\n",
      "death. What follows is our story of survival told to the best\n",
      "of my ability, in plain, simple languare.\n",
      "\n",
      "In March of 1944 the SS troops took over the internal affeirs\n",
      "of Hungary and proceeded to organize the deportation of the Jews.\n",
      "™> the Nazis this was a routine assignment; within hours all local\n",
      "officials were informed of operational plans. The high command\n",
      "issued a directive designed to placate Jewish fears and induce\n",
      "cooperation. It was announced that the Jews would be shipped to\n",
      "Poler:i as an emergency labor force and that they were only being\n",
      "drafted for temporary vork. There were many who believed this\n",
      "version. Others, less credulous, resigred themselves and hoped for\n",
      "the best. Still others began to make plans for escape. By Apris\n",
      "13 the Hungarian Jews were being rounded up from all over the\n",
      "country kn what was once a huge brick factory. The rest is well\n",
      "known. :\n",
      "\n",
      "I was working in Urevar and usually came home on weekends.\n",
      "\n",
      "At that time it was no lonser possitle for a Jew to travel freely.\n",
      "\n",
      "1\n",
      "\n",
      " \n",
      "\f",
      "\n"
     ]
    }
   ],
   "source": [
    "print(ocr_result)"
   ]
  },
  {
   "cell_type": "markdown",
   "id": "6a8726e6",
   "metadata": {},
   "source": [
    " # OCR an Index in Python"
   ]
  },
  {
   "cell_type": "code",
   "execution_count": 11,
   "id": "95cb5368",
   "metadata": {},
   "outputs": [],
   "source": [
    "image_file='data/index_02.JPG'"
   ]
  },
  {
   "cell_type": "code",
   "execution_count": 12,
   "id": "cd6881b6",
   "metadata": {},
   "outputs": [],
   "source": [
    "img=Image.open(image_file)"
   ]
  },
  {
   "cell_type": "code",
   "execution_count": 13,
   "id": "da06450b",
   "metadata": {},
   "outputs": [],
   "source": [
    "ocr_result=pytesseract.image_to_string(img)"
   ]
  },
  {
   "cell_type": "code",
   "execution_count": 14,
   "id": "722e2fe7",
   "metadata": {},
   "outputs": [
    {
     "name": "stdout",
     "output_type": "stream",
     "text": [
      "INDEX NOMINUM.\n",
      "\n",
      "SCRIPSIT KAROLUS HAMPE.\n",
      "\n",
      "Maior numerus indicat paginam, minor lineam.\n",
      "\n",
      "A. v. E.\n",
      "\n",
      "Aaron 38, 20. 123, 18. 168, 6. 203, 38. |\n",
      "\n",
      "Abacuc propheta 36,5. 319,29. 373, 23.\n",
      "Abagarus rex Edessenorum 382, 13.\n",
      "Abdenago 585, 3.\n",
      "\n",
      "Abel 26, 11.\n",
      "\n",
      "Abigail 606, 6.\n",
      "\n",
      "Abraham 26,18. 124,18. 133, 23. 2:\n",
      "264. 302, 13. 303, 13. 320, 40. 328, 1.\n",
      "496, 22.\n",
      "\n",
      "Absalon 102, 5.\n",
      "\n",
      "Acgfredi v. Ecgfridus.\n",
      "\n",
      "Achab rex 504, 1.\n",
      "\n",
      "Achaz rex 504,1.\n",
      "\n",
      "Achiel 606, 19.\n",
      "\n",
      "Achilon 496, 26.\n",
      "\n",
      "Adal-, Adel-, Adhel-, Aedel-, Aedel-,\n",
      "‘Aedil-, Aed\n",
      "Athel-, Athil-, Aethel-, Aethil-,\n",
      "Ethel-.\n",
      "\n",
      "Aedelbaldusabb.S. Petri Wiremuthen-\n",
      "sis et S. Pauli Girwensis 110, 28.\n",
      "\n",
      "Aedilberctus, Aedilberthus ep. Ha-\n",
      "gulstadensis, antea ep. Candidae\n",
      "casae sive Witernensis 27,43. 72,16.\n",
      "\n",
      "Adalbertus, Aedilberctus sive Magus,\n",
      "discipulus et capellanus Arnonis\n",
      "archiep. Salisburg., postea_abb.\n",
      "Ferrariensis 254, 1. 320, 41. 322, 19.\n",
      "416. 418, 14. 422, 10.\n",
      "\n",
      "Adalpertabb. [Tegernseensis ?]497,23.\n",
      "\n",
      "Adalbertus presb. monasterii 8. Mar-\n",
      "tini Turonensis 399, 3.\n",
      "\n",
      "Aedilburga, Edilburga,cognom. Euge-\n",
      "nia, abbatissa Flaedanbyrgensis,\n",
      "filia Offae regis Merciorum 78, 1.\n",
      "148, 32. 149, 33 [?]7 458.\n",
      "\n",
      "Aethelfleda uxor Aethilredi regis\n",
      "Northanhumbrorum, filia Offae\n",
      "regis Merciorum 149, 14. 150, 4.\n",
      "\n",
      "Adalgarius ep. [Trecensis?] 510, 10.\n",
      "\n",
      "Adelgisa filia Arichis ducis Bene-\n",
      "ventani 506, 27.\n",
      "\n",
      "Adalgisus fil. Desiderii regis Lango-\n",
      "bardorum 503, 45.\n",
      "\n",
      "Epistotae IV.\n",
      "\n",
      " \n",
      "\n",
      " \n",
      "\n",
      "il-, Edel-, Edil-, Athal-, |\n",
      "\n",
      "Aethelhardus, Aethilhardus, Athel-\n",
      "hardus, Athilhardus, Aedelhardus,\n",
      "Aedelhardus, Aedilhardus, Aedil-\n",
      "hardus, Ethelardus, Edelardus\n",
      "archiep. Cantuariensis Dorovernen-\n",
      "sis ecclesiae metropolitanus 46, 9.\n",
      "49,9. 128,2. 145, 31, 147,5. 188. 189.\n",
      "192, 24. 193, 5[?]. 374376, v9. 377, 4.\n",
      "412. 414,1 (2. 448. 449 [2]. 450 [2].\n",
      "\n",
      "| 451,8([?]. 479. 480. 614, 10. 21. 36.\n",
      "\n",
      "| Adalhardus , cognom. Antonius, abb.\n",
      "Corbeiae veteris, fil. Bernhardi\n",
      "eo Caroli Magni 34, 25. 290.\n",
      "\n",
      "1. 299. 300. 364. 365, 381. 382.\n",
      "509. 566,16; frater: Bernarius;\n",
      "fratres 381,25; soror: Gundrada.\n",
      "\n",
      "Adalmondus, Aethelmodus ep. Scire-\n",
      "\n",
      "| burnensis 29,9.\n",
      "\n",
      "Adelperga uxor Arichis ducis Bene-\n",
      "\n",
      "| ventani, filia Desiderii regis Lango-\n",
      "\n",
      "bardorum 506, 5; liberi: Romual-\n",
      "dus, Grimoaldus, Adelgisa.\n",
      "\n",
      "| Adalpert v, Adalbertus.\n",
      "\n",
      "Aedelredus, Aedilredus, Aethelredus,\n",
      "Aethilredus, Hedilredus rex Nor-\n",
      "thanhumbrorum, fil. Aedelwaldi\n",
      "Moll regis 33,15. 35,8. 41, 19.\n",
      "49, 16. 71, 20. 146,2. 147,10. 150, 6.\n",
      "151, 35. 171,17. 377,31; mater:\n",
      "Aedilthyda; uxor: Aethelfleda;\n",
      "famulus: Torchmundus.\n",
      "\n",
      "Adhelricus diaconus, discipulus et\n",
      "capellanus Arnonis archiep. Salis-\n",
      "burg., postea abbas Ferrariensis,\n",
      "archiepiscopus Senonensis, 418, 14.\n",
      "422, 10.\n",
      "\n",
      "Aedilthyda, Edilthruda uxor Aethel-\n",
      "waldi Moll regis Northanhumbro-\n",
      "rum, postea abbatissa 120,12. 151,17.\n",
      "152,31 hs filius: Aethelredus rex\n",
      "Northanhumbrorum.\n",
      "\n",
      "Edildryda uxor Ecgfridi regis Nor-\n",
      "thanhumbrorum, postea abbatissa\n",
      "(t 679) 417,15.\n",
      "\n",
      "Aedelwaldus, Aethelwoldus Moll rex\n",
      "Northanhumbrorum 33, 16; uxor:\n",
      "Aedilthyda; filius: Aethelredus,\n",
      "\n",
      "Adalwinus ep. Reginensis 421, 24.\n",
      "422, 21. 424,3.\n",
      "\n",
      " \n",
      "\n",
      " \n",
      "\n",
      "Aethiluuinus episcopus 28, 2.\n",
      "\n",
      "Adam 124, 201,1. 226, 7. 264, at.\n",
      "379, 29. 466, 36—468, v5. 591, 34.\n",
      "Adam abb. monasterii Gemeticensis\n",
      "\n",
      "579.\n",
      "\n",
      "Adaula abbatissa Anglica 112, 4.\n",
      "\n",
      "Adoredus, Hathoredus ep. Hwiccio-\n",
      "rum [Wigorniensis] 29, 10.\n",
      "\n",
      "Adrianus v. Hadrianus.\n",
      "\n",
      "Adriaticum mare 324, 41.\n",
      "\n",
      "| Aedel-, Aedil-, v. Adal-.\n",
      "\n",
      "Aegesippus [#. e. Hegesippus] 501, 11.\n",
      "\n",
      "Aegil v. Eigil.\n",
      "\n",
      "Aegyptus, Egyptus 123,19. 554, 17;\n",
      "Aegyptii, Aegyptiaci 231. 232, 17.\n",
      "467, 36. 567,6. 571,33; Egyptiacae\n",
      "divitiae 470, 22; Aegyptiacae tene-\n",
      "brae 232, 3; Acgy pit rex: Pharao;\n",
      "Aegyptiacascola, Aegyptiaci pueri\n",
      "v. Carolus I imperator.\n",
      "\n",
      "Aeine, Aesne, Esne ep. Herefordensis\n",
      "29, 6.\n",
      "\n",
      "Aelberhtus archiep. Eboracensis, ma-\n",
      "\n",
      "‘ister Alevini abbatis (162, 24]. 167,s.\n",
      "171,19]. [177,5]. [224,20]. [239, 28].\n",
      "332, 28]. [377,32]. (378, 31]. [429,27\n",
      "\n",
      "Aelfvaldus, Aelfwaldus rex Nor-\n",
      "thanhymbrorum, [Transhymbranae\n",
      "gentis] 20, 27. 28, 11. 43,8. 377, 31.\n",
      "\n",
      "Aelim v. Alim.\n",
      "\n",
      "Aeneades 39, 21; v. Virgilius.\n",
      "\n",
      "Aesculapius, Scolapius 397, 25.\n",
      "\n",
      "Aesne v. Aeine,\n",
      "\n",
      "Aethel-, Aethil- v. Adal-.\n",
      "\n",
      "Aethiopia 478, 5.\n",
      "\n",
      "Africa 124, 16; Afer: Melchiades\n",
      "papa; Africanum concilium 526,33.\n",
      "\n",
      "Africanus, sc. Scipio Afr. 575, 36.\n",
      "\n",
      "Agar 584, 3s.\n",
      "\n",
      "Agareni, Aggareni 32, 19. 601, 21;\n",
      "v, Saraceni.\n",
      "\n",
      "Agathensis synodus 396,\n",
      "\n",
      "Aginus ep. Constantiensis 117, 32.\n",
      "\n",
      "129, 19.\n",
      "\n",
      "8\n",
      "\f",
      "\n"
     ]
    }
   ],
   "source": [
    "print(ocr_result)"
   ]
  },
  {
   "cell_type": "code",
   "execution_count": null,
   "id": "3c557659",
   "metadata": {},
   "outputs": [],
   "source": []
  },
  {
   "cell_type": "code",
   "execution_count": 3,
   "id": "9f668b28",
   "metadata": {},
   "outputs": [],
   "source": [
    "import cv2"
   ]
  },
  {
   "cell_type": "code",
   "execution_count": 16,
   "id": "fd965281",
   "metadata": {},
   "outputs": [],
   "source": [
    "image=cv2.imread('data/index_02.JPG')"
   ]
  },
  {
   "cell_type": "code",
   "execution_count": 17,
   "id": "afb78532",
   "metadata": {},
   "outputs": [],
   "source": [
    "gray=cv2.cvtColor(image,cv2.COLOR_BGR2GRAY)"
   ]
  },
  {
   "cell_type": "code",
   "execution_count": 18,
   "id": "6804c9b1",
   "metadata": {},
   "outputs": [
    {
     "data": {
      "text/plain": [
       "True"
      ]
     },
     "execution_count": 18,
     "metadata": {},
     "output_type": "execute_result"
    }
   ],
   "source": [
    "cv2.imwrite('temp/index_grey.png',gray)"
   ]
  },
  {
   "cell_type": "code",
   "execution_count": 19,
   "id": "592eb972",
   "metadata": {},
   "outputs": [],
   "source": [
    "blur = cv2.GaussianBlur(gray, (7,7),0)"
   ]
  },
  {
   "cell_type": "code",
   "execution_count": 20,
   "id": "e54295d1",
   "metadata": {},
   "outputs": [
    {
     "data": {
      "text/plain": [
       "True"
      ]
     },
     "execution_count": 20,
     "metadata": {},
     "output_type": "execute_result"
    }
   ],
   "source": [
    "cv2.imwrite('temp/index_blur.png',blur)"
   ]
  },
  {
   "cell_type": "code",
   "execution_count": 21,
   "id": "750b9ae1",
   "metadata": {},
   "outputs": [],
   "source": [
    " thresh =cv2.threshold(blur,0,255,cv2.THRESH_BINARY_INV+cv2.THRESH_OTSU)[1]"
   ]
  },
  {
   "cell_type": "code",
   "execution_count": 22,
   "id": "161bc0ff",
   "metadata": {},
   "outputs": [
    {
     "data": {
      "text/plain": [
       "True"
      ]
     },
     "execution_count": 22,
     "metadata": {},
     "output_type": "execute_result"
    }
   ],
   "source": [
    "cv2.imwrite('temp/index_thresh.png',thresh)"
   ]
  },
  {
   "cell_type": "code",
   "execution_count": 23,
   "id": "45e257ad",
   "metadata": {},
   "outputs": [],
   "source": [
    "kernal = cv2.getStructuringElement( cv2.MORPH_RECT,(3,13))\n",
    "\n",
    "dilate= cv2.dilate(thresh,kernal,iterations=1)"
   ]
  },
  {
   "cell_type": "code",
   "execution_count": 24,
   "id": "790b0a29",
   "metadata": {},
   "outputs": [
    {
     "data": {
      "text/plain": [
       "True"
      ]
     },
     "execution_count": 24,
     "metadata": {},
     "output_type": "execute_result"
    }
   ],
   "source": [
    "cv2.imwrite('temp/index_dilate.png',dilate)"
   ]
  },
  {
   "cell_type": "code",
   "execution_count": 25,
   "id": "afc4fc5e",
   "metadata": {},
   "outputs": [],
   "source": [
    "cnts =cv2.findContours(dilate,cv2.RETR_EXTERNAL,cv2.CHAIN_APPROX_SIMPLE)"
   ]
  },
  {
   "cell_type": "code",
   "execution_count": 26,
   "id": "383e6961",
   "metadata": {},
   "outputs": [],
   "source": [
    "cnts=cnts[0] if len(cnts) ==2 else cents[1]"
   ]
  },
  {
   "cell_type": "code",
   "execution_count": 27,
   "id": "dfa37228",
   "metadata": {},
   "outputs": [],
   "source": [
    "cnts = sorted(cnts,key= lambda x: cv2.boundingRect(x)[0])"
   ]
  },
  {
   "cell_type": "code",
   "execution_count": 48,
   "id": "ea3970aa",
   "metadata": {},
   "outputs": [
    {
     "data": {
      "text/plain": [
       "True"
      ]
     },
     "execution_count": 48,
     "metadata": {},
     "output_type": "execute_result"
    }
   ],
   "source": [
    "for c in cnts:\n",
    "    x,y,w,h=cv2.boundingRect(c)\n",
    "    if h>200 and w>20:\n",
    "        roi=image[y:y+h,x:x+h]\n",
    "        cv2.imwrite('temp/index_roi.png',roi)\n",
    "        cv2.rectangle(image,(x,y),(x+w,y+h),(36,255,12),2)\n",
    "cv2.imwrite('temp/index_bbox.png',image)"
   ]
  },
  {
   "cell_type": "code",
   "execution_count": null,
   "id": "672dd012",
   "metadata": {},
   "outputs": [],
   "source": []
  },
  {
   "cell_type": "markdown",
   "id": "883a09a3",
   "metadata": {},
   "source": [
    "# Create a List of Named Entities from an Index with OpenCV"
   ]
  },
  {
   "cell_type": "code",
   "execution_count": 53,
   "id": "a1789761",
   "metadata": {
    "scrolled": false
   },
   "outputs": [],
   "source": [
    "results=[]\n",
    "for c in cnts:\n",
    "    x,y,w,h=cv2.boundingRect(c)\n",
    "    if h>200 and w>20:\n",
    "        roi=image[y:y+h,x:x+h]\n",
    "        cv2.rectangle(image,(x,y),(x+w,y+h),(36,255,12),2)\n",
    "        ocr_result= pytesseract.image_to_string(roi)\n",
    "        ocr_result=ocr_result.split('\\n')\n",
    "        for item in ocr_result:\n",
    "            results.append(item)\n",
    "        \n",
    "# cv2.imwrite('temp/index_bbox.png',image)"
   ]
  },
  {
   "cell_type": "code",
   "execution_count": 54,
   "id": "e06ae6a0",
   "metadata": {},
   "outputs": [
    {
     "name": "stdout",
     "output_type": "stream",
     "text": [
      "[' ', '', 'A. v. E.', '', 'Abdenago 585, 3.', '', 'Abel 26, 11.', '', 'Abigail 606, 6.', '', 'Abraham 26,18. 124,18. 133, 23.', '264. 302, 13. 303, 13. 320, 40.', '496, 22.', '', 'Absalon 102, 5.', '', 'Acgfredi v. Ecgtridus.', '', 'Achab rex 504, 1.', '', 'Achaz rex 504,1.', '', 'Achiel 606, 19.', '', 'Achilon 496, 26.', '', 'Adal-, Adel-, Adhel-, Aedel-, Aed', 'Aedil-,Acdil-, Edel-, Edil-, Ath', '', ' ', '', 'Ethel-.', '', '416. 418, 14. 422, 10.', '', 'tini Turonensis 399, 3.', 'Aedilbur,', 'nia, abbatissa', '148, 32. 149, 33 [2]7 458.', '', 'Aethelfleda uxor Aethilredi', '', 'Northanhumbrorum ,', 'regis Merciorum 149, 14. 150, 4.', '', 'ventani 506, 27.', '', 'bardorum 503, 45.', 'Epistozae IV.', '', ' ', '', '   ', '   ', '  ', '  ', '    ', '   ', '   ', '  ', '  ', '    ', '    ', '   ', '', 'Aaron 38, 20. 123, 18. 168,6. 203, 38. |)', 'Abacuc propheta 36,5. 319, 29. 373, 23.', 'Abagarus rex Edessenorum 382, 13.', '', '‘|||Adalhardus,', '', '   ', '  ', '   ', '  ', ' ', '', 'Athel-, Athil-, Aethel-, Aethil-,|', '', 'Aedelbaldusabb.S. Petri Wiremuthen-', 'sis et S. Pauli Girwensis 110, 28.', '', 'Aedilberctus, Aedilberthus ep. Ha-', 'gulstadensis, antea ep. Candidae|', 'casae sive Witernensis 27,43. 72,16.', 'Adalbertus, Aedilberctus sive Magus,', 'discipulus et capellanus Arnonis)', 'archiep. Salisburg., postea_abb.', 'Ferrariensis 254, 1. 320, 41. 322, 19.)', '', '  ', '  ', '   ', '   ', '      ', '', 'Adalpertabb.[Tegernseensis ?]497,23..', 'Adalbertus presb. monasterii 8. Mar-', '', ', Edilburga, cognom. Euge-', 'ljaedanbyrgensis,', 'filia Offae regis Merciorum 78, 1.', '', 'Adalgarius ep. [Trecensis?] 510, 10,', 'Adelgisa filia Arichis ducis Bene-', '', 'Adalgisus fil. Desiderii regis Lango-|', '', 'Aethelhardus, Aethilhardus, Athel-', 'hardus, Athilhardus, Aedelhardus,', 'Aedelhardus, Aedilhardus, Aedil-|', 'hardus, Ethelardus, Edelardus', 'archiep. Cantuariensis Dorovernen-', 'sis ecclesiae metropolitanus 46, 9,', '49,9. 128,2. 145, 31, 147,5. 188. 189.', '192, 24. 193, 5 [?]. 374376, v9. 377, 4,', '412. 414,1 (2) 448. 449 [2]. 450 [2].', '451, 8 [2]. 479. 480. 614, 10. 21. 36.', '. Antonius, abb,', 'Corbeiae veteris, fil. Bernhardi', 'ae Caroli Magni 34, 25. 290.', '1. 299. 300. 364. 365. 381. 382,', '509. 566,16; frater: Bernarius;', 'fratres 381,25; soror: Gundrada,', '\\\\|Adalmondus, Aethelmodus ep. Scire-', '|| burnensis 29, 9.', 'Adelperga uxor Arichis ducis Bene-', 'ventani, filia Desiderii regis Lango-', 'bardorum 506, 5; liberi: Romual-', 'dus, Grimoaldus, Adelgisa.', '\\\\|Adalpert v, Adalbertus.', 'Aedelredus, Aedilredus, Aethelredus,', 'Aethilredus, Hedilredus rex Nor-|', 'thanhumbrorum, fil. Aedelwaldi', 'Moll regis 383,15. 35,8. 41, 19.', '49,16. 71, 20, 146,2. 147,10. 150, 6.', '151, 35. 171,17. 377,31; mater:', 'Aedilthyda; uxor: Aethelfleda;', 'famulus: Torchmundus.', '', '   ', '      ', '  ', '  ', '   ', '   ', '  ', '     ', '   ', '   ', '     ', '  ', '  ', '  ', '  ', ' ', ' ', '', ' ', ' ', '', 'capellanus Arnonis archiep. Salis-', 'burg., postea abbas Ferrariensis,', 'archiepiscopus Senonensis, 418, 14.', '422, 10.', '', 'edilthyda, Edilthruda uxor Aethel-', 'waldi Moll regis Northanhumbro-', 'rum, postea abbatissa 120,12. 151,17.', '152,31 (?]; filius: Aethelredus rex', 'Northanhumbrorum.', '', 'dildryda uxor Ecgfridi regis Nor-', 'thanhumbrorum, postea abbatissa', '(F679) 417,15.', '', 'Aedelwaldus, Aethelwoldus Moll rex', 'Northanhumbrorum 33, 16; uxor:)', 'Aedilthyda; filius: Aethelredus,', 'Adalwinus ep. Reginensis 421, 24.', '422, 21. 424, 3.', '', '    ', '  ', '    ', '', ' ', '', ' ', '', '     ', '  ', '  ', '    ', ' ', '   ', '  ', '   ', '     ', '     ', '  ', '    ', '     ', '   ', '   ', '  ', '  ', '  ', '  ', '   ', '   ', '    ', '  ', '   ', '  ', ' ', ' ', '   ', '  ', ' ', '', ' ', '   ', '    ', '  ', '    ', '  ', '', 'Aethiluuinus episcopus 28, 2.', '', 'Adam 124, 201,1. 226,7. 264, 21,', '379, 29. 466, 36-—468, v5. 591, 34.', 'Adam abb. monasterii Gemeticensis)', '', '579.', 'Adaula abbatissa Anglica 112, 4.', 'Adoredus, Hathoredus ep. Hwiccio-|', 'rum [Wigorniensis] 29, 10.', 'Adrianus v. Hadrianus.', 'Adriaticum mare 324, 41.', 'Aedel-, Aedil-, v. Adal-.', 'Aegesippus [i. e. Hegesippus] 501, 11,', 'Aegil v. Eigil.', 'Aegyptus, Egyptus 123,19. 554, 17;', '‘Aegyptii, Aegyptiaci 231. 232, 17,', '467, 36. 567,6. 571,33; Egyptiacae’', 'divitiae 470,22; Aegyptiacae tene-)', 'brae 232, 3; Acgy pit rex: Pharao;', 'Aegyptiacascola, Aegyptiaci pueri|', 'v. Carolus I imperator.', 'Aeine, Aesne, Esne ep. Herefordensis|', ', 6.', 'elberhtus archiep. Eboracensis, ma-', '‘ister Alcvini abbatis (162, 24]. 167,s.', '171,19]. [177,5]. [224,20]. [239, 28].', '332, 28]. [377,32]. (378, 31]. [429,27', 'Aelfvaldus, Aelfwaldus rex Nor-', 'thanhymbrorum, [Transhymbranae', 'gentis] 20, 27. 28, 11. 43, 8. 377, 31.', 'Aelim v. Alim.', '‘Aeneades 39, 21; v. Virgilius.', 'Aesculapius, Scolapius 397, 25.', 'Aesne v. Aeine.', 'ethel-, Aethil- v. Adal-.', 'ethiopia 478, 5.', 'fricea 124, 16; Afer: Melchiades', 'papa; Africanum concilium 526,33.', 'fricanus, sc. Scipio Afr. 575, 36.', 'gar 584, 38.', 'gareni, Aggareni 32, 19. 601, 21;', 'v, Saraceni.', 'gathensis synodus 396,', 'inus ep. Constantiensis 117, 32.', '129, 19.', '', '     ', '  ', '', '       ', '  ', '  ', ' ', '', '    ', '   ', '  ', '  ', ' ', '  ', '   ', '  ', '  ', '  ', '  ', '   ', '   ', ' ', '  ', '   ', '   ', ' ', '', '  ', '   ', '  ', '  ', '    ', '  ', '    ', '   ', '    ', '   ', '  ', '   ', '   ', '   ', '   ', '  ', '  ', '', '  ', '     ', '   ', '   ', '  ', '   ', '   ', '   ', '   ', '   ', ' ', '', '    ', ' ', '\\x0c', ' ', '', 'Aethelhardus, Aethilhardus, Athel-', 'hardus, Athilhardus, Aedelhardus,', 'Aedelhardus, Aedilhardus, Aedil-|', 'hardus, Ethelardus, Edelardus', 'archiep. Cantuariensis Dorovernen-', '', 'sis ecclesiae metropolitanus 46, 9,', '', '49,9. 128,2. 145, 31, 147,5. 188. 189.', '', '192, 24. 193, 5 [?]. 374376, v9. 377, 4,', '', '412. 414,1 (2) 448. 449 [2]. 450 [2].', '', '451, 8 [2]. 479. 480. 614, 10. 21. 36.', '', 'Adalhardus, . Antonius, abb,', 'Corbeiae veteris, fil. Bernhardi', 'ae Caroli Magni 34, 25. 290.', '', '1. 299. 300. 364. 365, 381. 382,', '509. 566,16; frater: Bernarius;', 'fratres 381,25; soror: Gundrada,', '', 'Adalmondus, Aethelmodus ep. Scire-', 'burnensis 29, 9.', '', 'Adelperga uxor Arichis ducis Bene-', 'ventani, filia Desiderii regis Lango-', 'bardorum 506, 5; liberi: Romual-', 'dus, Grimoaldus, Adelgisa.', '', 'Adalpert v, Adalbertus.', '', 'Aedelredus, Aedilredus, Aethelredus,', 'Aethilredus, Hedilredus rex Nor-|', 'thanhumbrorum, fil. Aedelwaldi', 'Moll regis 33,15. 35,8. 41, 19.', '49,16. 71, 20, 146,2. 147,10. 150, 6.', '151, 35. 171,17. 377,31; mater:', 'Aedilthyda; uxor: Aethelfleda;', 'famulus: Torchmundus.', '', 'Adhelricus diaconus, discipulus et)', 'capellanus Arnonis archiep. Salis-', 'burg., postea abbas Ferrariensis,', 'archiepiscopus Senonensis, 418, 14.', '422, 10.', '', 'Aedilthyda, Edilthruda uxor Aethel-', 'waldi Moll regis Northanhumbro-', 'rum, postea abbatissa 120,12. 151,17.', '152,31 (?]; filius: Aethelredus rex', 'Northanhumbrorum.', '', 'Edildryda uxor Ecgfridi regis Nor-', 'thanhumbrorum, postea abbatissa', '(F679) 417,15.', '', 'Aedelwaldus, Aethelwoldus Moll rex’', 'Northanhumbrorum 33, 16; uxor:)', 'Aedilthyda; filius: Aethelredus,', '', 'Adalwinus ep. Reginensis 421, 24.', '422, 21. 424, 3.', '', ' ', '', ' ', '', ' ', '', ' ', '', ' ', '', 'Aethiluuinus episcopus 28, 2.', '', 'Adam 124, 201,1. 226,7. 264, 21,', '379, 29. 466, 36-—468, v5. 591, 34.', '', 'Adam abb. monasterii Gemeticensis)', '579.', '', 'Adaula abbatissa Anglica 112, 4.', '', 'Adoredus, Hathoredus ep. Hwiccio-|', 'rum [Wigorniensis] 29, 10.', '', 'Adrianus v. Hadrianus.', '', 'Adriaticum mare 324, 41.', '', 'Aedel-, Aedil-, v. Adal-.', '', 'Aegesippus [i. e. Hegesippus] 501, 11', '', 'Aegil v. Eigil.', '', 'Aegyptus, Egyptus 123,19. 554, 17;', '‘Aegyptii, Aegyptiaci 231. 232, 17.', '467, 36. 567,6. 571,33; Egyptiacae’', 'divitiae 470, 22; Aegyptiacae tene-|', 'brae 232, 3; Aegyptt rex: Pharao;', 'Aegyptiacascola, Aegyptiaci pueri|', 'v. Carolus I imperator.', '', 'Aeine, Aesne, Esne ep. Herefordensis|', '', ', 6.', 'elberhtus archiep. Eboracensis, ma-', '‘ister Alcvini abbatis (162, 24]. 167,s.', '171,19]. [177,5]. [224,20]. [239, 28].', '332, 28]. [377,32]. (378, 31]. [429, 27].)', '', 'Aelfvaldus, Aelfwaldus rex Nor-', 'thanhymbrorum, [Transhymbranae', 'gentis] 20, 27. 28, 11. 43, 8. 377, 31.', '', 'Aelim v. Alim.', '', '‘Aeneades 39, 21; v. Virgilius.', '', 'Aesculapius, Scolapius 397, 25.', '', 'Aesne v. Aeine.', 'ethel-, Aethil- v. Adal-.', 'ethiopia 478, 5,', 'fricea 124, 16; Afer: Melchiades', 'papa; Africanum concilium 526,33.', 'fricanus, sc. Scipio Afr. 575, 36.', 'gar 584, 38.', 'gareni, Aggareni 32, 19. 601, 21;', 'v, Saraceni.', 'gathensis synodus 396,', '', 'inus ep. Constantiensis 117, 32.', '129, 19.', '', ' ', '\\x0c', 'Aethiluuinus episcopus 28, 2.', '', 'Adam 124. 201,1. 226,7. 264, 21,]', '', '379, 29. 466, 36-—468, v5. 591, 34.', '', 'Adam abb. monasterii Gemeticensis', '', '579.', '', 'Adaula abbatissa Anglica 112, 4.', '', 'Adoredus, Hathoredus ep. Hwiccio-|', 'rum [Wigorniensis] 29, 10.', '', 'Adrianus v. Hadrianus.', '', 'Adriaticum mare 324, 41.', '', 'Aedel-, Aedil-, v. Adal-.', '', 'Aegesippus [i. e. Hegesippus] 501, 11,', '', 'Aegil v. Eigil.', '', 'Aegyptus, Egyptus 123,19. 554, 17;', '‘Aegyptii, Aegyptiaci 231. 232, 17,', '467, 36. 567,6. 571,33; Egyptiacae’', 'divitiae 470, 22; Aegyptiacae tene-|', 'brae 232, 3; Aegyptt rex: Pharao;', 'Aegyptiacascola, Aegyptiaci pueri', 'v. Carolus I imperator.', '', 'Aeine, Aesne, Esne ep. Herefordensis’', '', ', 6.', 'Aelberhtus archiep. Eboracensis, ma-', '‘ister Alcvini abbatis (162, 24]. 167,s.', '171,19]. [177,5]. [224,20]. [239, 28].', '332, 28]. [377,32]. (378, 31]. [429, 27].)', '', 'Aelfvaldus, Aelfwaldus rex Nor-', 'thanhymbrorum, [Transhymbranae', 'gentis] 20, 27. 28, 11. 43, 8. 377, 31.', '', 'Aelim v. Alim.', '', 'Aeneades 39, 21; v. Virgilius.', '', 'Aesculapius, Scolapius 397, 25.', '', 'Aesne v. Aeine.', '', 'Aethel-, Aethil- v. Adal-.', '', 'Aethiopia 478, 5,', '', 'Africa 124, 16; Afer: Melchiades', 'papa; Africanum concilium 526,33.', '', 'Africanus, se. Scipio Afr. 575, 36.', '', 'Agar 584, 3s.', '', 'Agareni, Aggareni 32, 19. 601, 21;', 'v, Saraceni.', '', 'Agathensis synodus 396,', '', 'Aginus ep. Constantiensis 117, 32.', '', '129, 19.', '', ' ', '', ' ', '\\x0c']\n"
     ]
    }
   ],
   "source": [
    "print(results)"
   ]
  },
  {
   "cell_type": "code",
   "execution_count": 68,
   "id": "475e35ea",
   "metadata": {},
   "outputs": [
    {
     "name": "stdout",
     "output_type": "stream",
     "text": [
      "Abdenago\n",
      "Abel\n",
      "Abigail\n",
      "Abraham\n",
      "Absalon\n",
      "Acgfredi\n",
      "Achab\n",
      "Achaz\n",
      "Achiel\n",
      "Achilon\n",
      "Aedilbur\n",
      "Aethelfleda\n",
      "Northanhumbrorum\n",
      "Epistozae\n",
      "Aaron\n",
      "Abacuc\n",
      "Abagarus\n",
      "Aedelbaldusabb\n",
      "Aedilberctus\n",
      "Adalbertus\n",
      "Ferrariensis\n",
      "Adalpertabb\n",
      "Adalbertus\n",
      "Adalgarius\n",
      "Adelgisa\n",
      "Adalgisus\n",
      "Aethelhardus\n",
      "Aedelhardus\n",
      "Corbeiae\n",
      "Adelperga\n",
      "Aedelredus\n",
      "Aethilredus\n",
      "Moll\n",
      "Aedilthyda\n",
      "Northanhumbrorum\n",
      "Aedelwaldus\n",
      "Northanhumbrorum\n",
      "Aedilthyda\n",
      "Adalwinus\n",
      "Aethiluuinus\n",
      "Adam\n",
      "Adam\n",
      "Adaula\n",
      "Adoredus\n",
      "Adrianus\n",
      "Adriaticum\n",
      "Aegesippus\n",
      "Aegil\n",
      "Aegyptus\n",
      "Aegyptiacascola\n",
      "Aeine\n",
      "Aelfvaldus\n",
      "Aelim\n",
      "Aesculapius\n",
      "Aesne\n",
      "Aethelhardus\n",
      "Aedelhardus\n",
      "Adalhardus\n",
      "Corbeiae\n",
      "Adalmondus\n",
      "Adelperga\n",
      "Adalpert\n",
      "Aedelredus\n",
      "Aethilredus\n",
      "Moll\n",
      "Aedilthyda\n",
      "Adhelricus\n",
      "Aedilthyda\n",
      "Northanhumbrorum\n",
      "Edildryda\n",
      "Aedelwaldus\n",
      "Northanhumbrorum\n",
      "Aedilthyda\n",
      "Adalwinus\n",
      "Aethiluuinus\n",
      "Adam\n",
      "Adam\n",
      "Adaula\n",
      "Adoredus\n",
      "Adrianus\n",
      "Adriaticum\n",
      "Aegesippus\n",
      "Aegil\n",
      "Aegyptus\n",
      "Aegyptiacascola\n",
      "Aeine\n",
      "Aelfvaldus\n",
      "Aelim\n",
      "Aesculapius\n",
      "Aesne\n",
      "Aethiluuinus\n",
      "Adam\n",
      "Adam\n",
      "Adaula\n",
      "Adoredus\n",
      "Adrianus\n",
      "Adriaticum\n",
      "Aegesippus\n",
      "Aegil\n",
      "Aegyptus\n",
      "Aegyptiacascola\n",
      "Aeine\n",
      "Aelberhtus\n",
      "Aelfvaldus\n",
      "Aelim\n",
      "Aeneades\n",
      "Aesculapius\n",
      "Aesne\n",
      "Aethiopia\n",
      "Africa\n",
      "Africanus\n",
      "Agar\n",
      "Agareni\n",
      "Agathensis\n",
      "Aginus\n"
     ]
    }
   ],
   "source": [
    "for item in results:\n",
    "    item=item.strip()\n",
    "    item=item.split(' ')[0]\n",
    "    if len(item)>2 :\n",
    "        if item[0].isupper() and '-' not in item :\n",
    "            item=item.split('.')[0].replace(',','').replace(';','')\n",
    "            print(item)"
   ]
  },
  {
   "cell_type": "code",
   "execution_count": null,
   "id": "7bd6a9c7",
   "metadata": {},
   "outputs": [],
   "source": []
  },
  {
   "cell_type": "markdown",
   "id": "987a8988",
   "metadata": {},
   "source": [
    "# OCR a Text with  Marginalia by Extracting the Body"
   ]
  },
  {
   "cell_type": "code",
   "execution_count": 4,
   "id": "d86141f0",
   "metadata": {},
   "outputs": [],
   "source": [
    "image=cv2.imread('data/sample_mgh.JPG')\n",
    "base_image =image.copy()"
   ]
  },
  {
   "cell_type": "code",
   "execution_count": 5,
   "id": "a498a574",
   "metadata": {},
   "outputs": [],
   "source": [
    "grey = cv2.cvtColor(image,cv2.COLOR_BGR2GRAY)\n",
    "blur=cv2.GaussianBlur(grey,(7,7),0)\n",
    "thresh= cv2.threshold(blur,0,255,cv2.THRESH_BINARY_INV+cv2.THRESH_OTSU)[1]"
   ]
  },
  {
   "cell_type": "code",
   "execution_count": 6,
   "id": "86f69cfb",
   "metadata": {},
   "outputs": [],
   "source": [
    "kernal = cv2.getStructuringElement(cv2.MORPH_RECT,(3,50))\n",
    "dialte = cv2.dilate(thresh,kernal,iterations=1)"
   ]
  },
  {
   "cell_type": "code",
   "execution_count": 7,
   "id": "6d793ac5",
   "metadata": {},
   "outputs": [
    {
     "data": {
      "text/plain": [
       "True"
      ]
     },
     "execution_count": 7,
     "metadata": {},
     "output_type": "execute_result"
    }
   ],
   "source": [
    "cv2.imwrite('temp/sample_dilated.png',dialte)"
   ]
  },
  {
   "cell_type": "code",
   "execution_count": 8,
   "id": "5c146a8f",
   "metadata": {},
   "outputs": [],
   "source": [
    "cnts = cv2.findContours(dialte,cv2.RETR_EXTERNAL,cv2.CHAIN_APPROX_SIMPLE)\n",
    "cnts=cnts[0] if len(cnts)==2 else cents[1]\n",
    "cnts= sorted (cnts , key=lambda x:cv2.boundingRect(x)[1])"
   ]
  },
  {
   "cell_type": "code",
   "execution_count": 17,
   "id": "45bc1bf3",
   "metadata": {},
   "outputs": [
    {
     "data": {
      "text/plain": [
       "True"
      ]
     },
     "execution_count": 17,
     "metadata": {},
     "output_type": "execute_result"
    }
   ],
   "source": [
    "for C in cnts:\n",
    "    x,y,w,h=cv2.boundingRect(C)\n",
    "    if h>200 and w>250:\n",
    "        roi = base_image[y:y+h,x:x+w]\n",
    "        cv2.rectangle(image,(x,y),(x+w,y+h),(26,255,12),2)\n",
    "cv2.imwrite('temp/sample_boxes.png',image)"
   ]
  },
  {
   "cell_type": "code",
   "execution_count": 18,
   "id": "5aefeb39",
   "metadata": {},
   "outputs": [],
   "source": [
    "ocr_result_org= pytesseract.image_to_string(roi)"
   ]
  },
  {
   "cell_type": "code",
   "execution_count": 20,
   "id": "6a2620b0",
   "metadata": {},
   "outputs": [
    {
     "name": "stdout",
     "output_type": "stream",
     "text": [
      "ae\n",
      "\n",
      "Alevinus amicum in monasterium se abditurum confirmat, De Benedicto monacho.\n",
      "773—786.\n",
      "\n",
      "Cod. H fol. 61'—62'.\n",
      "\n",
      "Edd. F211, J. 8, — Migne col. 485.\n",
      "\n",
      "DILECTISSIMO* AMICO TOTIUS PROSPERITATIS PRAESENTIS ET AETERNAE\n",
      "BEATITUDINIS PERPETUAM SALUTEM.\n",
      "\n",
      "Magna mihi laetitia est de bona voluntate vestra, quam audivi a fratre nostro\n",
      "Benedicto! in vobis esse. Opto atque Deum deprecor, ut citius cum omni convenien-\n",
      "tia perficiatur. Scriptum est enim: ‘Ne tardes converti ad dominum Deum; quia\n",
      "nescis, quid ventura pariat dies’, Erue te de harum carcere tribulationum, quae in\n",
      "hoe mundo fidelium animos torquere solent®; sicut scriptum est: ‘Multae tribulationes\n",
      "iustorum’; ut, quod sequitur, tibi evenire merearis: ‘Sed de his omnibus liberavit eos\n",
      "Dominus’. Et cave diligentissime, ne qua te, aratrum Domini tenentem, iniustitia\n",
      "retro revocet. Nemo miles sarcinis alienis onustus ad bella bene procedit, nisi armis\n",
      "tantummodo victricibus, vel ad defensionem sui vel ad laesionem adversarii.\n",
      "\n",
      "Omnia quae vobis demandare necessaria videbantur mihi fidelissimo fratri Bene-\n",
      "dicto dixi: loca, adiutorium et animi constantiam.\n",
      "\n",
      "Sed scire debes, quod in omni loco, ubi hominum conversatio est plurimorum,\n",
      "utrumque et boni et mali inveniuntur. Sed sapiens animus utrorumque utatur magi-\n",
      "sterio; id est, ut malorum caveat malitiam, et bonorum sequatur iustitiam, Mens\n",
      "regalis®, quae homini data est, discernere debet, quae sint cavenda et quae sint se-\n",
      "quenda; nec multum de loco diffidere vel etiam confidere. Quia, si locus adiuvare\n",
      "potuisset, numquam angelus de caelo cecidisset vel homo in paradyso positus pec-\n",
      "casset. Sed regnum Dei, ut ipsa veritas ait, intra nosmetipsos quaerendum est. Et\n",
      "psalmista: “Timete Dominum omnes sancti eius, quia nihil deest timentibus eum’.\n",
      "Timor Domini peccare vetat, dum homo ubique Dei sibi praesentiam agnoscit et timet.\n",
      "Quem® qui conscium habet cogitationum verborum vel operum suorum, hunc habi-\n",
      "turus est et iudicem. Nec eum quicquam effugit nostri nec aliquid iniudicatum de-\n",
      "miserit; quia, sicut dictum est, unicuique reddet secundum opera sua, Dum tempus\n",
      "habemus, operemur bonum, quia post mortem non est tempus operandi, sed tempus\n",
      "mercedem recipiendi. Haec cogitans, carissime fili, tui ipsius curam habeto, memor,\n",
      "de quantis te liberavit Deus periculis. Illum ama et ad eius misericordiam conver-\n",
      "tere, ut deleantur delicta tua et merearis locum refrigerii lucis et pacis recipere cum\n",
      "sanctis Dei. Meique memor cum Dei servientibus pro teque intercedentibus valeas\n",
      "perpetua prosperitate, dulcissime amice.\n",
      "\n",
      " \n",
      "\n",
      " \n",
      "\n",
      "1. 4) dilectissimis 1 ») solet 7 °) Quia H\n",
      "1) Hune Benedictum fratrem eundem esse existimo, per quem Alevinus Leutfredum episcopum de\n",
      "\n",
      "se ipso certiorem facere volwit, ideoque hanc epistolam eidem tempori, cui et sequentem, assignare velim,\n",
      "praesertim cum in codice alteri antecedat. 2) te. mens, quae hominem regit. J.\n",
      "\f",
      "\n"
     ]
    }
   ],
   "source": [
    "print(ocr_result_org)"
   ]
  },
  {
   "cell_type": "code",
   "execution_count": null,
   "id": "d789fc51",
   "metadata": {},
   "outputs": [],
   "source": []
  }
 ],
 "metadata": {
  "kernelspec": {
   "display_name": "Python 3 (ipykernel)",
   "language": "python",
   "name": "python3"
  },
  "language_info": {
   "codemirror_mode": {
    "name": "ipython",
    "version": 3
   },
   "file_extension": ".py",
   "mimetype": "text/x-python",
   "name": "python",
   "nbconvert_exporter": "python",
   "pygments_lexer": "ipython3",
   "version": "3.9.13"
  }
 },
 "nbformat": 4,
 "nbformat_minor": 5
}
